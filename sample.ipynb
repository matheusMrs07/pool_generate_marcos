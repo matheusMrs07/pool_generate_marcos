{
 "cells": [
  {
   "cell_type": "code",
   "execution_count": 1,
   "metadata": {},
   "outputs": [
    {
     "name": "stdout",
     "output_type": "stream",
     "text": [
      "gen\tnevals\n",
      "0  \t100   \n",
      "1  \t100   \n",
      "2  \t100   \n",
      "3  \t100   \n",
      "4  \t100   \n",
      "5  \t100   \n"
     ]
    },
    {
     "name": "stderr",
     "output_type": "stream",
     "text": [
      "c:\\Python310\\lib\\site-packages\\deap\\creator.py:138: RuntimeWarning: A class named 'FitnessMult' has already been created and it will be overwritten. Consider deleting previous creation of that class or rename it.\n",
      "  warnings.warn(\"A class named '{0}' has already been created and it \"\n",
      "c:\\Python310\\lib\\site-packages\\deap\\creator.py:138: RuntimeWarning: A class named 'Individual' has already been created and it will be overwritten. Consider deleting previous creation of that class or rename it.\n",
      "  warnings.warn(\"A class named '{0}' has already been created and it \"\n"
     ]
    },
    {
     "name": "stdout",
     "output_type": "stream",
     "text": [
      "gen\tnevals\n",
      "0  \t100   \n",
      "1  \t100   \n",
      "2  \t100   \n",
      "3  \t100   \n",
      "4  \t100   \n",
      "5  \t100   \n"
     ]
    },
    {
     "name": "stderr",
     "output_type": "stream",
     "text": [
      "c:\\Python310\\lib\\site-packages\\deap\\creator.py:138: RuntimeWarning: A class named 'FitnessMult' has already been created and it will be overwritten. Consider deleting previous creation of that class or rename it.\n",
      "  warnings.warn(\"A class named '{0}' has already been created and it \"\n",
      "c:\\Python310\\lib\\site-packages\\deap\\creator.py:138: RuntimeWarning: A class named 'Individual' has already been created and it will be overwritten. Consider deleting previous creation of that class or rename it.\n",
      "  warnings.warn(\"A class named '{0}' has already been created and it \"\n"
     ]
    },
    {
     "name": "stdout",
     "output_type": "stream",
     "text": [
      "gen\tnevals\n",
      "0  \t100   \n",
      "1  \t100   \n",
      "2  \t100   \n",
      "3  \t100   \n",
      "4  \t100   \n",
      "5  \t100   \n"
     ]
    }
   ],
   "source": [
    "from pool_generation import poolGeneration\n",
    "from sklearn.datasets import load_wine\n",
    "from sklearn.model_selection import train_test_split\n",
    "\n",
    "X,y = load_wine(return_X_y=True, as_frame=False)\n",
    "X_train, X_val, y_train, y_val = train_test_split(X, y, test_size=0.5, random_state=42)\n",
    "\n",
    "\n",
    "pool = poolGeneration()\n",
    "pool.nr_generation = 5\n",
    "\n",
    "pool.generate(X_train, y_train, X_val, y_val, 4)\n",
    "\n",
    "bags = pool.get_bags()"
   ]
  },
  {
   "cell_type": "code",
   "execution_count": 5,
   "metadata": {},
   "outputs": [
    {
     "name": "stdout",
     "output_type": "stream",
     "text": [
      "[0.25592327790990027, 0.11111111111111112]\n"
     ]
    }
   ],
   "source": [
    "import Cpx\n",
    "\n",
    "X_train, X_val, y_train, y_val = train_test_split(X, y, test_size=0.5, random_state=42)\n",
    "group = [\"overlapping\", 'neighborhood', '', '', '', '']\n",
    "types = [\"F1\", 'T1', '', '', '', '']\n",
    "\n",
    "cpx = Cpx.complexity_data3(X_val, y_val, group, types)\n",
    "\n",
    "print(cpx)"
   ]
  },
  {
   "cell_type": "code",
   "execution_count": 3,
   "metadata": {},
   "outputs": [
    {
     "name": "stdout",
     "output_type": "stream",
     "text": [
      "([array([1.438e+01, 3.590e+00, 2.280e+00, 1.600e+01, 1.020e+02, 3.250e+00,\n",
      "       3.170e+00, 2.700e-01, 2.190e+00, 4.900e+00, 1.040e+00, 3.440e+00,\n",
      "       1.065e+03]), array([1.383e+01, 1.570e+00, 2.620e+00, 2.000e+01, 1.150e+02, 2.950e+00,\n",
      "       3.400e+00, 4.000e-01, 1.720e+00, 6.600e+00, 1.130e+00, 2.570e+00,\n",
      "       1.130e+03]), array([1.394e+01, 1.730e+00, 2.270e+00, 1.740e+01, 1.080e+02, 2.880e+00,\n",
      "       3.540e+00, 3.200e-01, 2.080e+00, 8.900e+00, 1.120e+00, 3.100e+00,\n",
      "       1.260e+03]), array([1.208e+01, 1.330e+00, 2.300e+00, 2.360e+01, 7.000e+01, 2.200e+00,\n",
      "       1.590e+00, 4.200e-01, 1.380e+00, 1.740e+00, 1.070e+00, 3.210e+00,\n",
      "       6.250e+02]), array([ 12.29,   3.17,   2.21,  18.  ,  88.  ,   2.85,   2.99,   0.45,\n",
      "         2.81,   2.3 ,   1.42,   2.83, 406.  ]), array([1.422e+01, 3.990e+00, 2.510e+00, 1.320e+01, 1.280e+02, 3.000e+00,\n",
      "       3.040e+00, 2.000e-01, 2.080e+00, 5.100e+00, 8.900e-01, 3.530e+00,\n",
      "       7.600e+02]), array([1.251e+01, 1.240e+00, 2.250e+00, 1.750e+01, 8.500e+01, 2.000e+00,\n",
      "       5.800e-01, 6.000e-01, 1.250e+00, 5.450e+00, 7.500e-01, 1.510e+00,\n",
      "       6.500e+02]), array([1.369e+01, 3.260e+00, 2.540e+00, 2.000e+01, 1.070e+02, 1.830e+00,\n",
      "       5.600e-01, 5.000e-01, 8.000e-01, 5.880e+00, 9.600e-01, 1.820e+00,\n",
      "       6.800e+02]), array([1.41e+01, 2.02e+00, 2.40e+00, 1.88e+01, 1.03e+02, 2.75e+00,\n",
      "       2.92e+00, 3.20e-01, 2.38e+00, 6.20e+00, 1.07e+00, 2.75e+00,\n",
      "       1.06e+03]), array([1.207e+01, 2.160e+00, 2.170e+00, 2.100e+01, 8.500e+01, 2.600e+00,\n",
      "       2.650e+00, 3.700e-01, 1.350e+00, 2.760e+00, 8.600e-01, 3.280e+00,\n",
      "       3.780e+02]), array([ 13.84,   4.12,   2.38,  19.5 ,  89.  ,   1.8 ,   0.83,   0.48,\n",
      "         1.56,   9.01,   0.57,   1.64, 480.  ]), array([1.225e+01, 1.730e+00, 2.120e+00, 1.900e+01, 8.000e+01, 1.650e+00,\n",
      "       2.030e+00, 3.700e-01, 1.630e+00, 3.400e+00, 1.000e+00, 3.170e+00,\n",
      "       5.100e+02]), array([1.437e+01, 1.950e+00, 2.500e+00, 1.680e+01, 1.130e+02, 3.850e+00,\n",
      "       3.490e+00, 2.400e-01, 2.180e+00, 7.800e+00, 8.600e-01, 3.450e+00,\n",
      "       1.480e+03]), array([1.349e+01, 1.660e+00, 2.240e+00, 2.400e+01, 8.700e+01, 1.880e+00,\n",
      "       1.840e+00, 2.700e-01, 1.030e+00, 3.740e+00, 9.800e-01, 2.780e+00,\n",
      "       4.720e+02]), array([1.39e+01, 1.68e+00, 2.12e+00, 1.60e+01, 1.01e+02, 3.10e+00,\n",
      "       3.39e+00, 2.10e-01, 2.14e+00, 6.10e+00, 9.10e-01, 3.33e+00,\n",
      "       9.85e+02]), array([1.367e+01, 1.250e+00, 1.920e+00, 1.800e+01, 9.400e+01, 2.100e+00,\n",
      "       1.790e+00, 3.200e-01, 7.300e-01, 3.800e+00, 1.230e+00, 2.460e+00,\n",
      "       6.300e+02]), array([ 14.13,   4.1 ,   2.74,  24.5 ,  96.  ,   2.05,   0.76,   0.56,\n",
      "         1.35,   9.2 ,   0.61,   1.6 , 560.  ]), array([1.406e+01, 1.630e+00, 2.280e+00, 1.600e+01, 1.260e+02, 3.000e+00,\n",
      "       3.170e+00, 2.400e-01, 2.100e+00, 5.650e+00, 1.090e+00, 3.710e+00,\n",
      "       7.800e+02]), array([1.284e+01, 2.960e+00, 2.610e+00, 2.400e+01, 1.010e+02, 2.320e+00,\n",
      "       6.000e-01, 5.300e-01, 8.100e-01, 4.920e+00, 8.900e-01, 2.150e+00,\n",
      "       5.900e+02]), array([1.184e+01, 2.890e+00, 2.230e+00, 1.800e+01, 1.120e+02, 1.720e+00,\n",
      "       1.320e+00, 4.300e-01, 9.500e-01, 2.650e+00, 9.600e-01, 2.520e+00,\n",
      "       5.000e+02]), array([1.383e+01, 1.570e+00, 2.620e+00, 2.000e+01, 1.150e+02, 2.950e+00,\n",
      "       3.400e+00, 4.000e-01, 1.720e+00, 6.600e+00, 1.130e+00, 2.570e+00,\n",
      "       1.130e+03]), array([1.376e+01, 1.530e+00, 2.700e+00, 1.950e+01, 1.320e+02, 2.950e+00,\n",
      "       2.740e+00, 5.000e-01, 1.350e+00, 5.400e+00, 1.250e+00, 3.000e+00,\n",
      "       1.235e+03]), array([1.308e+01, 3.900e+00, 2.360e+00, 2.150e+01, 1.130e+02, 1.410e+00,\n",
      "       1.390e+00, 3.400e-01, 1.140e+00, 9.400e+00, 5.700e-01, 1.330e+00,\n",
      "       5.500e+02]), array([1.332e+01, 3.240e+00, 2.380e+00, 2.150e+01, 9.200e+01, 1.930e+00,\n",
      "       7.600e-01, 4.500e-01, 1.250e+00, 8.420e+00, 5.500e-01, 1.620e+00,\n",
      "       6.500e+02]), array([1.229e+01, 1.610e+00, 2.210e+00, 2.040e+01, 1.030e+02, 1.100e+00,\n",
      "       1.020e+00, 3.700e-01, 1.460e+00, 3.050e+00, 9.060e-01, 1.820e+00,\n",
      "       8.700e+02]), array([1.377e+01, 1.900e+00, 2.680e+00, 1.710e+01, 1.150e+02, 3.000e+00,\n",
      "       2.790e+00, 3.900e-01, 1.680e+00, 6.300e+00, 1.130e+00, 2.930e+00,\n",
      "       1.375e+03]), array([1.386e+01, 1.510e+00, 2.670e+00, 2.500e+01, 8.600e+01, 2.950e+00,\n",
      "       2.860e+00, 2.100e-01, 1.870e+00, 3.380e+00, 1.360e+00, 3.160e+00,\n",
      "       4.100e+02]), array([ 12.85,   3.27,   2.58,  22.  , 106.  ,   1.65,   0.6 ,   0.6 ,\n",
      "         0.96,   5.58,   0.87,   2.11, 570.  ]), array([1.293e+01, 3.800e+00, 2.650e+00, 1.860e+01, 1.020e+02, 2.410e+00,\n",
      "       2.410e+00, 2.500e-01, 1.980e+00, 4.500e+00, 1.030e+00, 3.520e+00,\n",
      "       7.700e+02]), array([ 12.64,   1.36,   2.02,  16.8 , 100.  ,   2.02,   1.41,   0.53,\n",
      "         0.62,   5.75,   0.98,   1.59, 450.  ]), array([ 12.42,   2.55,   2.27,  22.  ,  90.  ,   1.68,   1.84,   0.66,\n",
      "         1.42,   2.7 ,   0.86,   3.3 , 315.  ]), array([1.296e+01, 3.450e+00, 2.350e+00, 1.850e+01, 1.060e+02, 1.390e+00,\n",
      "       7.000e-01, 4.000e-01, 9.400e-01, 5.280e+00, 6.800e-01, 1.750e+00,\n",
      "       6.750e+02]), array([1.236e+01, 3.830e+00, 2.380e+00, 2.100e+01, 8.800e+01, 2.300e+00,\n",
      "       9.200e-01, 5.000e-01, 1.040e+00, 7.650e+00, 5.600e-01, 1.580e+00,\n",
      "       5.200e+02]), array([1.416e+01, 2.510e+00, 2.480e+00, 2.000e+01, 9.100e+01, 1.680e+00,\n",
      "       7.000e-01, 4.400e-01, 1.240e+00, 9.700e+00, 6.200e-01, 1.710e+00,\n",
      "       6.600e+02]), array([ 13.05,   3.86,   2.32,  22.5 ,  85.  ,   1.65,   1.59,   0.61,\n",
      "         1.62,   4.8 ,   0.84,   2.01, 515.  ]), array([ 14.13,   4.1 ,   2.74,  24.5 ,  96.  ,   2.05,   0.76,   0.56,\n",
      "         1.35,   9.2 ,   0.61,   1.6 , 560.  ]), array([1.351e+01, 1.800e+00, 2.650e+00, 1.900e+01, 1.100e+02, 2.350e+00,\n",
      "       2.530e+00, 2.900e-01, 1.540e+00, 4.200e+00, 1.100e+00, 2.870e+00,\n",
      "       1.095e+03]), array([1.437e+01, 1.950e+00, 2.500e+00, 1.680e+01, 1.130e+02, 3.850e+00,\n",
      "       3.490e+00, 2.400e-01, 2.180e+00, 7.800e+00, 8.600e-01, 3.450e+00,\n",
      "       1.480e+03]), array([1.272e+01, 1.750e+00, 2.280e+00, 2.250e+01, 8.400e+01, 1.380e+00,\n",
      "       1.760e+00, 4.800e-01, 1.630e+00, 3.300e+00, 8.800e-01, 2.420e+00,\n",
      "       4.880e+02]), array([1.348e+01, 1.810e+00, 2.410e+00, 2.050e+01, 1.000e+02, 2.700e+00,\n",
      "       2.980e+00, 2.600e-01, 1.860e+00, 5.100e+00, 1.040e+00, 3.470e+00,\n",
      "       9.200e+02]), array([1.204e+01, 4.300e+00, 2.380e+00, 2.200e+01, 8.000e+01, 2.100e+00,\n",
      "       1.750e+00, 4.200e-01, 1.350e+00, 2.600e+00, 7.900e-01, 2.570e+00,\n",
      "       5.800e+02]), array([ 12.64,   1.36,   2.02,  16.8 , 100.  ,   2.02,   1.41,   0.53,\n",
      "         0.62,   5.75,   0.98,   1.59, 450.  ]), array([1.317e+01, 2.590e+00, 2.370e+00, 2.000e+01, 1.200e+02, 1.650e+00,\n",
      "       6.800e-01, 5.300e-01, 1.460e+00, 9.300e+00, 6.000e-01, 1.620e+00,\n",
      "       8.400e+02]), array([1.26e+01, 1.34e+00, 1.90e+00, 1.85e+01, 8.80e+01, 1.45e+00,\n",
      "       1.36e+00, 2.90e-01, 1.35e+00, 2.45e+00, 1.04e+00, 2.77e+00,\n",
      "       5.62e+02])], [0, 0, 0, 1, 1, 0, 2, 2, 0, 1, 2, 1, 0, 1, 0, 1, 2, 0, 2, 1, 0, 0, 2, 2, 1, 0, 1, 2, 0, 1, 1, 2, 2, 2, 1, 2, 0, 0, 1, 0, 1, 1, 2, 1])\n"
     ]
    }
   ],
   "source": [
    "# for i in pool.bags_saved:\n",
    "#     print(i)\n",
    "\n",
    "print(bags[0])"
   ]
  }
 ],
 "metadata": {
  "kernelspec": {
   "display_name": "Python 3.10.5 64-bit",
   "language": "python",
   "name": "python3"
  },
  "language_info": {
   "codemirror_mode": {
    "name": "ipython",
    "version": 3
   },
   "file_extension": ".py",
   "mimetype": "text/x-python",
   "name": "python",
   "nbconvert_exporter": "python",
   "pygments_lexer": "ipython3",
   "version": "3.10.5"
  },
  "orig_nbformat": 4,
  "vscode": {
   "interpreter": {
    "hash": "369f2c481f4da34e4445cda3fffd2e751bd1c4d706f27375911949ba6bb62e1c"
   }
  }
 },
 "nbformat": 4,
 "nbformat_minor": 2
}
