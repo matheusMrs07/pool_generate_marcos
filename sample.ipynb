{
 "cells": [
  {
   "cell_type": "code",
   "execution_count": null,
   "metadata": {},
   "outputs": [],
   "source": [
    "from sklearn.tree import DecisionTreeClassifier\n",
    "from pool_generation import poolGeneration\n",
    "from sklearn.datasets import load_wine\n",
    "from sklearn.model_selection import train_test_split\n",
    "from deslib.des.knora_u import KNORAU\n",
    "from deslib.des.knora_e import KNORAE\n",
    "from deslib.dcs.ola import OLA\n",
    "from deslib.des.meta_des import METADES\n",
    "from deslib.dcs.lca import LCA\n",
    "from deslib.dcs.rank import Rank\n",
    "\n",
    "X,y = load_wine(return_X_y=True, as_frame=False)\n",
    "X_train, X_test, y_train, y_test = train_test_split(X, y, test_size=0.4, random_state=42)\n",
    "\n",
    "_, X_valid,_ , y_valid = train_test_split(X_train, y_train, test_size=0.4, random_state=42)\n",
    "\n",
    "pool = poolGeneration(nr_generation = 20)\n",
    "\n",
    "pool.generate(X_train, y_train, X_test, y_test, 10)\n",
    "\n",
    "bags = pool.get_bags()\n",
    "\n",
    "pool_cls = pool.get_pool()\n",
    "\n",
    "lca = LCA(pool_cls)\n",
    "rank = Rank(pool_cls)\n",
    "ola = OLA(pool_cls)\n",
    "\n",
    "lca.fit(X_train, y_train)\n",
    "rank.fit(X_train, y_train)\n",
    "ola.fit(X_train, y_train)\n",
    "\n",
    "print(lca.score(X_test, y_test))\n",
    "print(rank.score(X_test, y_test))\n",
    "print(ola.score(X_test, y_test))\n"
   ]
  }
 ],
 "metadata": {
  "kernelspec": {
   "display_name": "Python 3",
   "language": "python",
   "name": "python3"
  },
  "language_info": {
   "codemirror_mode": {
    "name": "ipython",
    "version": 3
   },
   "file_extension": ".py",
   "mimetype": "text/x-python",
   "name": "python",
   "nbconvert_exporter": "python",
   "pygments_lexer": "ipython3",
   "version": "3.11.1"
  },
  "orig_nbformat": 4,
  "vscode": {
   "interpreter": {
    "hash": "5238573367df39f7286bb46f9ff5f08f63a01a80960060ce41e3c79b190280fa"
   }
  }
 },
 "nbformat": 4,
 "nbformat_minor": 2
}
