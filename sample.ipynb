{
 "cells": [
  {
   "cell_type": "code",
   "execution_count": 1,
   "metadata": {},
   "outputs": [
    {
     "name": "stderr",
     "output_type": "stream",
     "text": [
      "Unable to determine R home: [WinError 2] O sistema não pode encontrar o arquivo especificado\n"
     ]
    },
    {
     "name": "stdout",
     "output_type": "stream",
     "text": [
      "gen\tnevals\n",
      "0  \t100   \n",
      "1  \t100   \n",
      "2  \t100   \n",
      "3  \t100   \n",
      "4  \t100   \n",
      "5  \t100   \n",
      "6  \t100   \n",
      "7  \t100   \n",
      "8  \t100   \n",
      "9  \t100   \n",
      "10 \t100   \n",
      "11 \t100   \n",
      "12 \t100   \n",
      "13 \t100   \n",
      "14 \t100   \n",
      "15 \t100   \n",
      "16 \t100   \n",
      "17 \t100   \n",
      "18 \t100   \n",
      "19 \t100   \n"
     ]
    },
    {
     "name": "stderr",
     "output_type": "stream",
     "text": [
      "c:\\Python310\\lib\\site-packages\\deap\\creator.py:138: RuntimeWarning: A class named 'FitnessMult' has already been created and it will be overwritten. Consider deleting previous creation of that class or rename it.\n",
      "  warnings.warn(\"A class named '{0}' has already been created and it \"\n",
      "c:\\Python310\\lib\\site-packages\\deap\\creator.py:138: RuntimeWarning: A class named 'Individual' has already been created and it will be overwritten. Consider deleting previous creation of that class or rename it.\n",
      "  warnings.warn(\"A class named '{0}' has already been created and it \"\n"
     ]
    },
    {
     "name": "stdout",
     "output_type": "stream",
     "text": [
      "gen\tnevals\n",
      "0  \t100   \n",
      "1  \t100   \n",
      "2  \t100   \n",
      "3  \t100   \n",
      "4  \t100   \n",
      "5  \t100   \n",
      "6  \t100   \n",
      "7  \t100   \n",
      "8  \t100   \n",
      "9  \t100   \n",
      "10 \t100   \n",
      "11 \t100   \n",
      "12 \t100   \n",
      "13 \t100   \n",
      "14 \t100   \n",
      "15 \t100   \n",
      "16 \t100   \n",
      "17 \t100   \n",
      "18 \t100   \n",
      "19 \t100   \n"
     ]
    },
    {
     "name": "stderr",
     "output_type": "stream",
     "text": [
      "c:\\Python310\\lib\\site-packages\\deap\\creator.py:138: RuntimeWarning: A class named 'FitnessMult' has already been created and it will be overwritten. Consider deleting previous creation of that class or rename it.\n",
      "  warnings.warn(\"A class named '{0}' has already been created and it \"\n",
      "c:\\Python310\\lib\\site-packages\\deap\\creator.py:138: RuntimeWarning: A class named 'Individual' has already been created and it will be overwritten. Consider deleting previous creation of that class or rename it.\n",
      "  warnings.warn(\"A class named '{0}' has already been created and it \"\n"
     ]
    },
    {
     "name": "stdout",
     "output_type": "stream",
     "text": [
      "gen\tnevals\n",
      "0  \t100   \n",
      "1  \t100   \n",
      "2  \t100   \n",
      "3  \t100   \n",
      "4  \t100   \n",
      "5  \t100   \n",
      "6  \t100   \n",
      "7  \t100   \n",
      "8  \t100   \n",
      "9  \t100   \n",
      "10 \t100   \n",
      "11 \t100   \n",
      "12 \t100   \n",
      "13 \t100   \n",
      "14 \t100   \n",
      "15 \t100   \n",
      "16 \t100   \n",
      "17 \t100   \n",
      "18 \t100   \n",
      "19 \t100   \n"
     ]
    },
    {
     "name": "stderr",
     "output_type": "stream",
     "text": [
      "c:\\Python310\\lib\\site-packages\\deap\\creator.py:138: RuntimeWarning: A class named 'FitnessMult' has already been created and it will be overwritten. Consider deleting previous creation of that class or rename it.\n",
      "  warnings.warn(\"A class named '{0}' has already been created and it \"\n",
      "c:\\Python310\\lib\\site-packages\\deap\\creator.py:138: RuntimeWarning: A class named 'Individual' has already been created and it will be overwritten. Consider deleting previous creation of that class or rename it.\n",
      "  warnings.warn(\"A class named '{0}' has already been created and it \"\n"
     ]
    },
    {
     "name": "stdout",
     "output_type": "stream",
     "text": [
      "gen\tnevals\n",
      "0  \t100   \n",
      "1  \t100   \n",
      "2  \t100   \n",
      "3  \t100   \n",
      "4  \t100   \n",
      "5  \t100   \n",
      "6  \t100   \n",
      "7  \t100   \n",
      "8  \t100   \n",
      "9  \t100   \n",
      "10 \t100   \n",
      "11 \t100   \n",
      "12 \t100   \n",
      "13 \t100   \n",
      "14 \t100   \n",
      "15 \t100   \n",
      "16 \t100   \n",
      "17 \t100   \n",
      "18 \t100   \n",
      "19 \t100   \n"
     ]
    }
   ],
   "source": [
    "from pool_generation import poolGeneration\n",
    "from sklearn.datasets import load_iris\n",
    "from sklearn.model_selection import train_test_split\n",
    "\n",
    "X,y = load_iris(return_X_y=True, as_frame=False)\n",
    "X_train, X_val, y_train, y_val = train_test_split(X, y, test_size=0.5, random_state=42)\n",
    "\n",
    "\n",
    "pool = poolGeneration()\n",
    "\n",
    "pool.generate(X_train, y_train, X_val, y_val, 5)"
   ]
  }
 ],
 "metadata": {
  "kernelspec": {
   "display_name": "Python 3.10.5 64-bit",
   "language": "python",
   "name": "python3"
  },
  "language_info": {
   "codemirror_mode": {
    "name": "ipython",
    "version": 3
   },
   "file_extension": ".py",
   "mimetype": "text/x-python",
   "name": "python",
   "nbconvert_exporter": "python",
   "pygments_lexer": "ipython3",
   "version": "3.10.5"
  },
  "orig_nbformat": 4,
  "vscode": {
   "interpreter": {
    "hash": "369f2c481f4da34e4445cda3fffd2e751bd1c4d706f27375911949ba6bb62e1c"
   }
  }
 },
 "nbformat": 4,
 "nbformat_minor": 2
}
