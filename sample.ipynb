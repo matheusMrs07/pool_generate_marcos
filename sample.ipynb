{
 "cells": [
  {
   "cell_type": "code",
   "execution_count": 1,
   "metadata": {},
   "outputs": [
    {
     "name": "stdout",
     "output_type": "stream",
     "text": [
      "0\n",
      "gen\tnevals\n",
      "0  \t100   \n",
      "1  \t100   \n",
      "2  \t100   \n",
      "1\n"
     ]
    },
    {
     "name": "stderr",
     "output_type": "stream",
     "text": [
      "C:\\Users\\mathe\\AppData\\Roaming\\Python\\Python311\\site-packages\\deap\\creator.py:138: RuntimeWarning: A class named 'FitnessMult' has already been created and it will be overwritten. Consider deleting previous creation of that class or rename it.\n",
      "  warnings.warn(\"A class named '{0}' has already been created and it \"\n",
      "C:\\Users\\mathe\\AppData\\Roaming\\Python\\Python311\\site-packages\\deap\\creator.py:138: RuntimeWarning: A class named 'Individual' has already been created and it will be overwritten. Consider deleting previous creation of that class or rename it.\n",
      "  warnings.warn(\"A class named '{0}' has already been created and it \"\n"
     ]
    },
    {
     "name": "stdout",
     "output_type": "stream",
     "text": [
      "gen\tnevals\n",
      "0  \t100   \n",
      "1  \t100   \n",
      "2  \t100   \n",
      "2\n"
     ]
    },
    {
     "name": "stderr",
     "output_type": "stream",
     "text": [
      "C:\\Users\\mathe\\AppData\\Roaming\\Python\\Python311\\site-packages\\deap\\creator.py:138: RuntimeWarning: A class named 'FitnessMult' has already been created and it will be overwritten. Consider deleting previous creation of that class or rename it.\n",
      "  warnings.warn(\"A class named '{0}' has already been created and it \"\n",
      "C:\\Users\\mathe\\AppData\\Roaming\\Python\\Python311\\site-packages\\deap\\creator.py:138: RuntimeWarning: A class named 'Individual' has already been created and it will be overwritten. Consider deleting previous creation of that class or rename it.\n",
      "  warnings.warn(\"A class named '{0}' has already been created and it \"\n"
     ]
    },
    {
     "name": "stdout",
     "output_type": "stream",
     "text": [
      "gen\tnevals\n",
      "0  \t100   \n",
      "1  \t100   \n",
      "2  \t100   \n",
      "3\n"
     ]
    },
    {
     "name": "stderr",
     "output_type": "stream",
     "text": [
      "C:\\Users\\mathe\\AppData\\Roaming\\Python\\Python311\\site-packages\\deap\\creator.py:138: RuntimeWarning: A class named 'FitnessMult' has already been created and it will be overwritten. Consider deleting previous creation of that class or rename it.\n",
      "  warnings.warn(\"A class named '{0}' has already been created and it \"\n",
      "C:\\Users\\mathe\\AppData\\Roaming\\Python\\Python311\\site-packages\\deap\\creator.py:138: RuntimeWarning: A class named 'Individual' has already been created and it will be overwritten. Consider deleting previous creation of that class or rename it.\n",
      "  warnings.warn(\"A class named '{0}' has already been created and it \"\n"
     ]
    },
    {
     "name": "stdout",
     "output_type": "stream",
     "text": [
      "gen\tnevals\n",
      "0  \t100   \n",
      "1  \t100   \n",
      "2  \t100   \n"
     ]
    }
   ],
   "source": [
    "from pool_generation import poolGeneration\n",
    "from sklearn.datasets import load_wine\n",
    "from sklearn.model_selection import train_test_split\n",
    "\n",
    "X,y = load_wine(return_X_y=True, as_frame=False)\n",
    "X_train, X_test, y_train, y_test = train_test_split(X, y, test_size=0.5, random_state=42)\n",
    "\n",
    "\n",
    "pool = poolGeneration()\n",
    "pool.nr_generation = 2\n",
    "\n",
    "pool.generate(X_train, y_train, X_test, y_test, 4)\n",
    "\n",
    "bags = pool.get_bags()"
   ]
  },
  {
   "cell_type": "code",
   "execution_count": 1,
   "metadata": {},
   "outputs": [
    {
     "ename": "TypeError",
     "evalue": "only size-1 arrays can be converted to Python scalars",
     "output_type": "error",
     "traceback": [
      "\u001b[1;31m---------------------------------------------------------------------------\u001b[0m",
      "\u001b[1;31mValueError\u001b[0m                                Traceback (most recent call last)",
      "File \u001b[1;32m~\\AppData\\Roaming\\Python\\Python311\\site-packages\\rpy2\\rinterface_lib\\sexp.py:618\u001b[0m, in \u001b[0;36mSexpVectorAbstract.from_object\u001b[1;34m(cls, obj)\u001b[0m\n\u001b[0;32m    617\u001b[0m     mv \u001b[39m=\u001b[39m \u001b[39mmemoryview\u001b[39m(obj)\n\u001b[1;32m--> 618\u001b[0m     res \u001b[39m=\u001b[39m \u001b[39mcls\u001b[39;49m\u001b[39m.\u001b[39;49mfrom_memoryview(mv)\n\u001b[0;32m    619\u001b[0m \u001b[39mexcept\u001b[39;00m (\u001b[39mTypeError\u001b[39;00m, \u001b[39mValueError\u001b[39;00m):\n",
      "File \u001b[1;32m~\\AppData\\Roaming\\Python\\Python311\\site-packages\\rpy2\\rinterface_lib\\conversion.py:45\u001b[0m, in \u001b[0;36m_cdata_res_to_rinterface.<locals>._\u001b[1;34m(*args, **kwargs)\u001b[0m\n\u001b[0;32m     44\u001b[0m \u001b[39mdef\u001b[39;00m \u001b[39m_\u001b[39m(\u001b[39m*\u001b[39margs, \u001b[39m*\u001b[39m\u001b[39m*\u001b[39mkwargs):\n\u001b[1;32m---> 45\u001b[0m     cdata \u001b[39m=\u001b[39m function(\u001b[39m*\u001b[39;49margs, \u001b[39m*\u001b[39;49m\u001b[39m*\u001b[39;49mkwargs)\n\u001b[0;32m     46\u001b[0m     \u001b[39m# TODO: test cdata is of the expected CType\u001b[39;00m\n",
      "File \u001b[1;32m~\\AppData\\Roaming\\Python\\Python311\\site-packages\\rpy2\\rinterface_lib\\sexp.py:596\u001b[0m, in \u001b[0;36mSexpVectorAbstract.from_memoryview\u001b[1;34m(cls, mview)\u001b[0m\n\u001b[0;32m    595\u001b[0m \u001b[39mif\u001b[39;00m \u001b[39mnot\u001b[39;00m \u001b[39mcls\u001b[39m\u001b[39m.\u001b[39m_check_C_compatible(mview):\n\u001b[1;32m--> 596\u001b[0m     \u001b[39mcls\u001b[39;49m\u001b[39m.\u001b[39;49m_raise_incompatible_C_size(mview)\n\u001b[0;32m    598\u001b[0m r_vector \u001b[39m=\u001b[39m \u001b[39mNone\u001b[39;00m\n",
      "File \u001b[1;32m~\\AppData\\Roaming\\Python\\Python311\\site-packages\\rpy2\\rinterface_lib\\sexp.py:576\u001b[0m, in \u001b[0;36mSexpVectorAbstract._raise_incompatible_C_size\u001b[1;34m(cls, mview)\u001b[0m\n\u001b[0;32m    563\u001b[0m msg \u001b[39m=\u001b[39m (\n\u001b[0;32m    564\u001b[0m     \u001b[39m'\u001b[39m\u001b[39mIncompatible C type sizes. \u001b[39m\u001b[39m'\u001b[39m\n\u001b[0;32m    565\u001b[0m     \u001b[39m'\u001b[39m\u001b[39mThe R array type is \u001b[39m\u001b[39m\"\u001b[39m\u001b[39m{r_type}\u001b[39;00m\u001b[39m\"\u001b[39m\u001b[39m with \u001b[39m\u001b[39m{r_size}\u001b[39;00m\u001b[39m byte\u001b[39m\u001b[39m{r_size_pl}\u001b[39;00m\u001b[39m \u001b[39m\u001b[39m'\u001b[39m\n\u001b[1;32m   (...)\u001b[0m\n\u001b[0;32m    574\u001b[0m             py_size_pl\u001b[39m=\u001b[39m\u001b[39m'\u001b[39m\u001b[39ms\u001b[39m\u001b[39m'\u001b[39m \u001b[39mif\u001b[39;00m mview\u001b[39m.\u001b[39mitemsize \u001b[39m>\u001b[39m \u001b[39m1\u001b[39m \u001b[39melse\u001b[39;00m \u001b[39m'\u001b[39m\u001b[39m'\u001b[39m)\n\u001b[0;32m    575\u001b[0m )\n\u001b[1;32m--> 576\u001b[0m \u001b[39mraise\u001b[39;00m \u001b[39mValueError\u001b[39;00m(msg)\n",
      "\u001b[1;31mValueError\u001b[0m: Incompatible C type sizes. The R array type is \"13\" with 4 bytes per item while the Python array type is \"d\" with 8 bytes per item.",
      "\nDuring handling of the above exception, another exception occurred:\n",
      "\u001b[1;31mTypeError\u001b[0m                                 Traceback (most recent call last)",
      "Cell \u001b[1;32mIn[1], line 13\u001b[0m\n\u001b[0;32m      9\u001b[0m pool \u001b[39m=\u001b[39m poolGeneration()\n\u001b[0;32m     11\u001b[0m grupos \u001b[39m=\u001b[39m [\u001b[39m\"\u001b[39m\u001b[39moverlapping\u001b[39m\u001b[39m\"\u001b[39m, \u001b[39m\"\u001b[39m\u001b[39mneighborhood\u001b[39m\u001b[39m\"\u001b[39m, \u001b[39m\"\u001b[39m\u001b[39mlinearity\u001b[39m\u001b[39m\"\u001b[39m, \u001b[39m\"\u001b[39m\u001b[39mdimensionality\u001b[39m\u001b[39m\"\u001b[39m, \u001b[39m\"\u001b[39m\u001b[39mbalance\u001b[39m\u001b[39m\"\u001b[39m, \u001b[39m\"\u001b[39m\u001b[39mnetwork\u001b[39m\u001b[39m\"\u001b[39m]\n\u001b[1;32m---> 13\u001b[0m pool\u001b[39m.\u001b[39;49mvote_complexity( X_train, y_train, grupos)\n",
      "File \u001b[1;32md:\\documentos\\Doutorado\\codigos_blade\\Projeto git\\pool_generation.py:513\u001b[0m, in \u001b[0;36mpoolGeneration.vote_complexity\u001b[1;34m(self, X_train, y_train, grupos)\u001b[0m\n\u001b[0;32m    511\u001b[0m stad \u001b[39m=\u001b[39m []\n\u001b[0;32m    512\u001b[0m comp\u001b[39m=\u001b[39m[]\n\u001b[1;32m--> 513\u001b[0m cp\u001b[39m=\u001b[39m [ Cpx\u001b[39m.\u001b[39;49mcomplexity_data3(y_train,X_train,grupos) \u001b[39mfor\u001b[39;49;00m j \u001b[39min\u001b[39;49;00m \u001b[39mrange\u001b[39;49m(\u001b[39m100\u001b[39;49m)]\n\u001b[0;32m    514\u001b[0m \u001b[39mdel\u001b[39;00m X_train , y_train\n\u001b[0;32m    515\u001b[0m np\u001b[39m.\u001b[39mset_printoptions(threshold\u001b[39m=\u001b[39mnp\u001b[39m.\u001b[39mnan)\n",
      "File \u001b[1;32md:\\documentos\\Doutorado\\codigos_blade\\Projeto git\\pool_generation.py:513\u001b[0m, in \u001b[0;36m<listcomp>\u001b[1;34m(.0)\u001b[0m\n\u001b[0;32m    511\u001b[0m stad \u001b[39m=\u001b[39m []\n\u001b[0;32m    512\u001b[0m comp\u001b[39m=\u001b[39m[]\n\u001b[1;32m--> 513\u001b[0m cp\u001b[39m=\u001b[39m [ Cpx\u001b[39m.\u001b[39;49mcomplexity_data3(y_train,X_train,grupos) \u001b[39mfor\u001b[39;00m j \u001b[39min\u001b[39;00m \u001b[39mrange\u001b[39m(\u001b[39m100\u001b[39m)]\n\u001b[0;32m    514\u001b[0m \u001b[39mdel\u001b[39;00m X_train , y_train\n\u001b[0;32m    515\u001b[0m np\u001b[39m.\u001b[39mset_printoptions(threshold\u001b[39m=\u001b[39mnp\u001b[39m.\u001b[39mnan)\n",
      "File \u001b[1;32md:\\documentos\\Doutorado\\codigos_blade\\Projeto git\\Cpx.py:116\u001b[0m, in \u001b[0;36mcomplexity_data3\u001b[1;34m(X_data, y_data, group, types)\u001b[0m\n\u001b[0;32m    114\u001b[0m \u001b[39mdef\u001b[39;00m \u001b[39mcomplexity_data3\u001b[39m(X_data, y_data, group, types\u001b[39m=\u001b[39m\u001b[39mNone\u001b[39;00m):\n\u001b[0;32m    115\u001b[0m     dfx \u001b[39m=\u001b[39m pd\u001b[39m.\u001b[39mDataFrame(X_data, copy\u001b[39m=\u001b[39m\u001b[39mFalse\u001b[39;00m)\n\u001b[1;32m--> 116\u001b[0m     dfy \u001b[39m=\u001b[39m robjects\u001b[39m.\u001b[39;49mIntVector(y_data)\n\u001b[0;32m    117\u001b[0m     \u001b[39mcomplex\u001b[39m \u001b[39m=\u001b[39m np\u001b[39m.\u001b[39marray([])\n\u001b[0;32m    118\u001b[0m     \u001b[39mif\u001b[39;00m group[\u001b[39m0\u001b[39m] \u001b[39m==\u001b[39m \u001b[39m'\u001b[39m\u001b[39moverlapping\u001b[39m\u001b[39m'\u001b[39m:\n",
      "File \u001b[1;32m~\\AppData\\Roaming\\Python\\Python311\\site-packages\\rpy2\\robjects\\vectors.py:438\u001b[0m, in \u001b[0;36mIntVector.__init__\u001b[1;34m(self, obj)\u001b[0m\n\u001b[0;32m    437\u001b[0m \u001b[39mdef\u001b[39;00m \u001b[39m__init__\u001b[39m(\u001b[39mself\u001b[39m, obj):\n\u001b[1;32m--> 438\u001b[0m     \u001b[39msuper\u001b[39;49m()\u001b[39m.\u001b[39;49m\u001b[39m__init__\u001b[39;49m(obj)\n\u001b[0;32m    439\u001b[0m     \u001b[39mself\u001b[39m\u001b[39m.\u001b[39m_add_rops()\n",
      "File \u001b[1;32m~\\AppData\\Roaming\\Python\\Python311\\site-packages\\rpy2\\rinterface_lib\\sexp.py:701\u001b[0m, in \u001b[0;36mSexpVector.__init__\u001b[1;34m(self, obj)\u001b[0m\n\u001b[0;32m    699\u001b[0m     \u001b[39msuper\u001b[39m()\u001b[39m.\u001b[39m\u001b[39m__init__\u001b[39m(obj)\n\u001b[0;32m    700\u001b[0m \u001b[39melif\u001b[39;00m \u001b[39misinstance\u001b[39m(obj, collections\u001b[39m.\u001b[39mabc\u001b[39m.\u001b[39mSized):\n\u001b[1;32m--> 701\u001b[0m     robj: Sexp \u001b[39m=\u001b[39m \u001b[39mtype\u001b[39;49m(\u001b[39mself\u001b[39;49m)\u001b[39m.\u001b[39;49mfrom_object(obj)\n\u001b[0;32m    702\u001b[0m     \u001b[39msuper\u001b[39m()\u001b[39m.\u001b[39m\u001b[39m__init__\u001b[39m(robj)\n\u001b[0;32m    703\u001b[0m \u001b[39melse\u001b[39;00m:\n",
      "File \u001b[1;32m~\\AppData\\Roaming\\Python\\Python311\\site-packages\\rpy2\\rinterface_lib\\sexp.py:621\u001b[0m, in \u001b[0;36mSexpVectorAbstract.from_object\u001b[1;34m(cls, obj)\u001b[0m\n\u001b[0;32m    619\u001b[0m \u001b[39mexcept\u001b[39;00m (\u001b[39mTypeError\u001b[39;00m, \u001b[39mValueError\u001b[39;00m):\n\u001b[0;32m    620\u001b[0m     \u001b[39mtry\u001b[39;00m:\n\u001b[1;32m--> 621\u001b[0m         res \u001b[39m=\u001b[39m \u001b[39mcls\u001b[39;49m\u001b[39m.\u001b[39;49mfrom_iterable(obj)\n\u001b[0;32m    622\u001b[0m     \u001b[39mexcept\u001b[39;00m \u001b[39mValueError\u001b[39;00m:\n\u001b[0;32m    623\u001b[0m         msg \u001b[39m=\u001b[39m (\u001b[39m'\u001b[39m\u001b[39mThe class methods from_memoryview() and \u001b[39m\u001b[39m'\u001b[39m\n\u001b[0;32m    624\u001b[0m                \u001b[39m'\u001b[39m\u001b[39mfrom_iterable() both failed to make a \u001b[39m\u001b[39m{}\u001b[39;00m\u001b[39m \u001b[39m\u001b[39m'\u001b[39m\n\u001b[0;32m    625\u001b[0m                \u001b[39m'\u001b[39m\u001b[39mfrom an object of class \u001b[39m\u001b[39m{}\u001b[39;00m\u001b[39m'\u001b[39m\n\u001b[0;32m    626\u001b[0m                \u001b[39m.\u001b[39mformat(\u001b[39mcls\u001b[39m, \u001b[39mtype\u001b[39m(obj)))\n",
      "File \u001b[1;32m~\\AppData\\Roaming\\Python\\Python311\\site-packages\\rpy2\\rinterface_lib\\conversion.py:45\u001b[0m, in \u001b[0;36m_cdata_res_to_rinterface.<locals>._\u001b[1;34m(*args, **kwargs)\u001b[0m\n\u001b[0;32m     44\u001b[0m \u001b[39mdef\u001b[39;00m \u001b[39m_\u001b[39m(\u001b[39m*\u001b[39margs, \u001b[39m*\u001b[39m\u001b[39m*\u001b[39mkwargs):\n\u001b[1;32m---> 45\u001b[0m     cdata \u001b[39m=\u001b[39m function(\u001b[39m*\u001b[39;49margs, \u001b[39m*\u001b[39;49m\u001b[39m*\u001b[39;49mkwargs)\n\u001b[0;32m     46\u001b[0m     \u001b[39m# TODO: test cdata is of the expected CType\u001b[39;00m\n\u001b[0;32m     47\u001b[0m     \u001b[39mreturn\u001b[39;00m _cdata_to_rinterface(cdata)\n",
      "File \u001b[1;32m~\\AppData\\Roaming\\Python\\Python311\\site-packages\\rpy2\\rinterface_lib\\sexp.py:558\u001b[0m, in \u001b[0;36mSexpVectorAbstract.from_iterable\u001b[1;34m(cls, iterable, populate_func, set_elt, cast_value)\u001b[0m\n\u001b[0;32m    553\u001b[0m \u001b[39mwith\u001b[39;00m memorymanagement\u001b[39m.\u001b[39mrmemory() \u001b[39mas\u001b[39;00m rmemory:\n\u001b[0;32m    554\u001b[0m     r_vector \u001b[39m=\u001b[39m rmemory\u001b[39m.\u001b[39mprotect(\n\u001b[0;32m    555\u001b[0m         openrlib\u001b[39m.\u001b[39mrlib\u001b[39m.\u001b[39mRf_allocVector(\n\u001b[0;32m    556\u001b[0m             \u001b[39mcls\u001b[39m\u001b[39m.\u001b[39m_R_TYPE, n)\n\u001b[0;32m    557\u001b[0m     )\n\u001b[1;32m--> 558\u001b[0m     populate_func(iterable, r_vector, set_elt, cast_value)\n\u001b[0;32m    559\u001b[0m \u001b[39mreturn\u001b[39;00m r_vector\n",
      "File \u001b[1;32m~\\AppData\\Roaming\\Python\\Python311\\site-packages\\rpy2\\rinterface_lib\\sexp.py:501\u001b[0m, in \u001b[0;36m_populate_r_vector\u001b[1;34m(iterable, r_vector, set_elt, cast_value)\u001b[0m\n\u001b[0;32m    499\u001b[0m \u001b[39mdef\u001b[39;00m \u001b[39m_populate_r_vector\u001b[39m(iterable, r_vector, set_elt, cast_value) \u001b[39m-\u001b[39m\u001b[39m>\u001b[39m \u001b[39mNone\u001b[39;00m:\n\u001b[0;32m    500\u001b[0m     \u001b[39mfor\u001b[39;00m i, v \u001b[39min\u001b[39;00m \u001b[39menumerate\u001b[39m(iterable):\n\u001b[1;32m--> 501\u001b[0m         set_elt(r_vector, i, cast_value(v))\n",
      "File \u001b[1;32m~\\AppData\\Roaming\\Python\\Python311\\site-packages\\rpy2\\rinterface.py:479\u001b[0m, in \u001b[0;36mnullable_int\u001b[1;34m(v)\u001b[0m\n\u001b[0;32m    477\u001b[0m     \u001b[39mreturn\u001b[39;00m openrlib\u001b[39m.\u001b[39mrlib\u001b[39m.\u001b[39mR_NaInt\n\u001b[0;32m    478\u001b[0m \u001b[39melse\u001b[39;00m:\n\u001b[1;32m--> 479\u001b[0m     \u001b[39mreturn\u001b[39;00m \u001b[39mint\u001b[39;49m(v)\n",
      "\u001b[1;31mTypeError\u001b[0m: only size-1 arrays can be converted to Python scalars"
     ]
    }
   ],
   "source": [
    "from pool_generation import poolGeneration\n",
    "from sklearn.datasets import load_wine\n",
    "from sklearn.model_selection import train_test_split\n",
    "\n",
    "X,y = load_wine(return_X_y=True, as_frame=False)\n",
    "X_train, X_test, y_train, y_test = train_test_split(X, y, test_size=0.5, random_state=42)\n",
    "\n",
    "\n",
    "pool = poolGeneration()\n",
    "\n",
    "grupos = [\"overlapping\", \"neighborhood\", \"linearity\", \"dimensionality\", \"balance\", \"network\"]\n",
    "\n",
    "pool.vote_complexity( X_train, y_train, grupos)"
   ]
  },
  {
   "cell_type": "code",
   "execution_count": 2,
   "metadata": {},
   "outputs": [
    {
     "name": "stdout",
     "output_type": "stream",
     "text": [
      "400\n",
      "[[1.364e+01 3.100e+00 2.560e+00 ... 9.600e-01 3.360e+00 8.450e+02]\n",
      " [1.421e+01 4.040e+00 2.440e+00 ... 8.700e-01 3.330e+00 1.080e+03]\n",
      " [1.293e+01 2.810e+00 2.700e+00 ... 7.700e-01 2.310e+00 6.000e+02]\n",
      " ...\n",
      " [1.285e+01 1.600e+00 2.520e+00 ... 1.090e+00 3.630e+00 1.015e+03]\n",
      " [1.281e+01 2.310e+00 2.400e+00 ... 6.600e-01 1.360e+00 5.600e+02]\n",
      " [1.272e+01 1.810e+00 2.200e+00 ... 1.160e+00 3.140e+00 7.140e+02]]\n"
     ]
    },
    {
     "ename": "AttributeError",
     "evalue": "module 'numpy' has no attribute 'float'",
     "output_type": "error",
     "traceback": [
      "\u001b[1;31m---------------------------------------------------------------------------\u001b[0m",
      "\u001b[1;31mAttributeError\u001b[0m                            Traceback (most recent call last)",
      "Cell \u001b[1;32mIn[2], line 31\u001b[0m\n\u001b[0;32m     29\u001b[0m \u001b[39mprint\u001b[39m(X_test)\n\u001b[0;32m     30\u001b[0m \u001b[39m# Predict new examples:\u001b[39;00m\n\u001b[1;32m---> 31\u001b[0m knorae\u001b[39m.\u001b[39;49mpredict(X_test)\n",
      "File \u001b[1;32m~\\AppData\\Roaming\\Python\\Python311\\site-packages\\deslib\\base.py:529\u001b[0m, in \u001b[0;36mBaseDS.predict\u001b[1;34m(self, X)\u001b[0m\n\u001b[0;32m    526\u001b[0m         \u001b[39melse\u001b[39;00m:\n\u001b[0;32m    527\u001b[0m             selected_probabilities \u001b[39m=\u001b[39m \u001b[39mNone\u001b[39;00m\n\u001b[1;32m--> 529\u001b[0m         pred_ds \u001b[39m=\u001b[39m \u001b[39mself\u001b[39;49m\u001b[39m.\u001b[39;49mclassify_with_ds(X_DS[ind_ds_classifier],\n\u001b[0;32m    530\u001b[0m                                         base_predictions[\n\u001b[0;32m    531\u001b[0m                                             ind_ds_original_matrix],\n\u001b[0;32m    532\u001b[0m                                         selected_probabilities,\n\u001b[0;32m    533\u001b[0m                                         neighbors\u001b[39m=\u001b[39;49mneighbors,\n\u001b[0;32m    534\u001b[0m                                         distances\u001b[39m=\u001b[39;49mdistances,\n\u001b[0;32m    535\u001b[0m                                         DFP_mask\u001b[39m=\u001b[39;49mDFP_mask)\n\u001b[0;32m    536\u001b[0m         predicted_labels[ind_ds_original_matrix] \u001b[39m=\u001b[39m pred_ds\n\u001b[0;32m    538\u001b[0m \u001b[39mreturn\u001b[39;00m \u001b[39mself\u001b[39m\u001b[39m.\u001b[39mclasses_\u001b[39m.\u001b[39mtake(predicted_labels)\n",
      "File \u001b[1;32m~\\AppData\\Roaming\\Python\\Python311\\site-packages\\deslib\\des\\base.py:186\u001b[0m, in \u001b[0;36mBaseDES.classify_with_ds\u001b[1;34m(self, query, predictions, probabilities, neighbors, distances, DFP_mask)\u001b[0m\n\u001b[0;32m    180\u001b[0m     competences \u001b[39m=\u001b[39m \u001b[39mself\u001b[39m\u001b[39m.\u001b[39mestimate_competence_from_proba(\n\u001b[0;32m    181\u001b[0m         query,\n\u001b[0;32m    182\u001b[0m         neighbors\u001b[39m=\u001b[39mneighbors,\n\u001b[0;32m    183\u001b[0m         distances\u001b[39m=\u001b[39mdistances,\n\u001b[0;32m    184\u001b[0m         probabilities\u001b[39m=\u001b[39mprobabilities)\n\u001b[0;32m    185\u001b[0m \u001b[39melse\u001b[39;00m:\n\u001b[1;32m--> 186\u001b[0m     competences \u001b[39m=\u001b[39m \u001b[39mself\u001b[39;49m\u001b[39m.\u001b[39;49mestimate_competence(query,\n\u001b[0;32m    187\u001b[0m                                            neighbors\u001b[39m=\u001b[39;49mneighbors,\n\u001b[0;32m    188\u001b[0m                                            distances\u001b[39m=\u001b[39;49mdistances,\n\u001b[0;32m    189\u001b[0m                                            predictions\u001b[39m=\u001b[39;49mpredictions)\n\u001b[0;32m    191\u001b[0m \u001b[39mif\u001b[39;00m \u001b[39mself\u001b[39m\u001b[39m.\u001b[39mDFP:\n\u001b[0;32m    192\u001b[0m     competences \u001b[39m=\u001b[39m competences \u001b[39m*\u001b[39m DFP_mask\n",
      "File \u001b[1;32m~\\AppData\\Roaming\\Python\\Python311\\site-packages\\deslib\\des\\knora_e.py:168\u001b[0m, in \u001b[0;36mKNORAE.estimate_competence\u001b[1;34m(self, query, neighbors, distances, predictions)\u001b[0m\n\u001b[0;32m    162\u001b[0m \u001b[39m# Look for the first occurrence of a zero in the processed predictions\u001b[39;00m\n\u001b[0;32m    163\u001b[0m \u001b[39m# (first misclassified sample). The np.argmax can be used here, since\u001b[39;00m\n\u001b[0;32m    164\u001b[0m \u001b[39m# in case of multiple occurrences of the maximum values, the indices_\u001b[39;00m\n\u001b[0;32m    165\u001b[0m \u001b[39m# corresponding to the first occurrence are returned.\u001b[39;00m\n\u001b[0;32m    166\u001b[0m competences \u001b[39m=\u001b[39m np\u001b[39m.\u001b[39margmax(results_neighbors \u001b[39m==\u001b[39m \u001b[39m0\u001b[39m, axis\u001b[39m=\u001b[39m\u001b[39m1\u001b[39m)\n\u001b[1;32m--> 168\u001b[0m \u001b[39mreturn\u001b[39;00m competences\u001b[39m.\u001b[39mastype(np\u001b[39m.\u001b[39;49mfloat)\n",
      "File \u001b[1;32m~\\AppData\\Roaming\\Python\\Python311\\site-packages\\numpy\\__init__.py:284\u001b[0m, in \u001b[0;36m__getattr__\u001b[1;34m(attr)\u001b[0m\n\u001b[0;32m    281\u001b[0m     \u001b[39mfrom\u001b[39;00m \u001b[39m.\u001b[39;00m\u001b[39mtesting\u001b[39;00m \u001b[39mimport\u001b[39;00m Tester\n\u001b[0;32m    282\u001b[0m     \u001b[39mreturn\u001b[39;00m Tester\n\u001b[1;32m--> 284\u001b[0m \u001b[39mraise\u001b[39;00m \u001b[39mAttributeError\u001b[39;00m(\u001b[39m\"\u001b[39m\u001b[39mmodule \u001b[39m\u001b[39m{!r}\u001b[39;00m\u001b[39m has no attribute \u001b[39m\u001b[39m\"\u001b[39m\n\u001b[0;32m    285\u001b[0m                      \u001b[39m\"\u001b[39m\u001b[39m{!r}\u001b[39;00m\u001b[39m\"\u001b[39m\u001b[39m.\u001b[39mformat(\u001b[39m__name__\u001b[39m, attr))\n",
      "\u001b[1;31mAttributeError\u001b[0m: module 'numpy' has no attribute 'float'"
     ]
    }
   ],
   "source": [
    "print(len(bags))\n",
    "\n",
    "# -Seleção dinamica\n",
    "# ola\n",
    "# lca \n",
    "# rank\n",
    "\n",
    "# -emsamble\n",
    "# knora -> union/eliminate\n",
    "# metades\n",
    "\n",
    "# -voto majoritário\n",
    "\n",
    "# deslib lib para fazer os testes\n",
    "\n",
    "from deslib.des.knora_e import KNORAE\n",
    "from sklearn.ensemble import RandomForestClassifier\n",
    "\n",
    "# Train a pool of 10 classifiers\n",
    "pool_classifiers = RandomForestClassifier(n_estimators=10)\n",
    "pool_classifiers.fit(X_train, y_train)\n",
    "\n",
    "# Initialize the DES model\n",
    "knorae = KNORAE(pool_classifiers)\n",
    "\n",
    "# Preprocess the Dynamic Selection dataset (DSEL)\n",
    "knorae.fit(bags[0][0], bags[0][1])\n",
    "\n",
    "print(X_test)\n",
    "# Predict new examples:\n",
    "knorae.predict(X_test)\n"
   ]
  },
  {
   "cell_type": "code",
   "execution_count": 5,
   "metadata": {},
   "outputs": [
    {
     "name": "stdout",
     "output_type": "stream",
     "text": [
      "[0.25592327790990027, 0.11111111111111112]\n"
     ]
    }
   ],
   "source": [
    "import Cpx\n",
    "\n",
    "X_train, X_val, y_train, y_val = train_test_split(X, y, test_size=0.5, random_state=42)\n",
    "group = [\"overlapping\", 'neighborhood', '', '', '', '']\n",
    "types = [\"F1\", 'T1', '', '', '', '']\n",
    "\n",
    "cpx = Cpx.complexity_data3(X_val, y_val, group, types)\n",
    "\n",
    "print(cpx)"
   ]
  },
  {
   "cell_type": "code",
   "execution_count": 7,
   "metadata": {},
   "outputs": [
    {
     "data": {
      "text/plain": [
       "0.24719101123595505"
      ]
     },
     "execution_count": 7,
     "metadata": {},
     "output_type": "execute_result"
    }
   ],
   "source": [
    "from sklearn.linear_model import Perceptron\n",
    "\n",
    "clf = Perceptron(tol=1e-3, random_state=0)\n",
    "\n",
    "# for bag in bags:\n",
    "#     clf.fit(bag[0], bag[1])\n",
    "clf.fit(bags[0][0], bags[0][1])    \n",
    "# clf.fit(X_train, y_train)\n",
    "clf.score(X_val, y_val)"
   ]
  },
  {
   "cell_type": "code",
   "execution_count": 3,
   "metadata": {},
   "outputs": [
    {
     "name": "stdout",
     "output_type": "stream",
     "text": [
      "([array([1.438e+01, 3.590e+00, 2.280e+00, 1.600e+01, 1.020e+02, 3.250e+00,\n",
      "       3.170e+00, 2.700e-01, 2.190e+00, 4.900e+00, 1.040e+00, 3.440e+00,\n",
      "       1.065e+03]), array([1.383e+01, 1.570e+00, 2.620e+00, 2.000e+01, 1.150e+02, 2.950e+00,\n",
      "       3.400e+00, 4.000e-01, 1.720e+00, 6.600e+00, 1.130e+00, 2.570e+00,\n",
      "       1.130e+03]), array([1.394e+01, 1.730e+00, 2.270e+00, 1.740e+01, 1.080e+02, 2.880e+00,\n",
      "       3.540e+00, 3.200e-01, 2.080e+00, 8.900e+00, 1.120e+00, 3.100e+00,\n",
      "       1.260e+03]), array([1.208e+01, 1.330e+00, 2.300e+00, 2.360e+01, 7.000e+01, 2.200e+00,\n",
      "       1.590e+00, 4.200e-01, 1.380e+00, 1.740e+00, 1.070e+00, 3.210e+00,\n",
      "       6.250e+02]), array([ 12.29,   3.17,   2.21,  18.  ,  88.  ,   2.85,   2.99,   0.45,\n",
      "         2.81,   2.3 ,   1.42,   2.83, 406.  ]), array([1.422e+01, 3.990e+00, 2.510e+00, 1.320e+01, 1.280e+02, 3.000e+00,\n",
      "       3.040e+00, 2.000e-01, 2.080e+00, 5.100e+00, 8.900e-01, 3.530e+00,\n",
      "       7.600e+02]), array([1.251e+01, 1.240e+00, 2.250e+00, 1.750e+01, 8.500e+01, 2.000e+00,\n",
      "       5.800e-01, 6.000e-01, 1.250e+00, 5.450e+00, 7.500e-01, 1.510e+00,\n",
      "       6.500e+02]), array([1.369e+01, 3.260e+00, 2.540e+00, 2.000e+01, 1.070e+02, 1.830e+00,\n",
      "       5.600e-01, 5.000e-01, 8.000e-01, 5.880e+00, 9.600e-01, 1.820e+00,\n",
      "       6.800e+02]), array([1.41e+01, 2.02e+00, 2.40e+00, 1.88e+01, 1.03e+02, 2.75e+00,\n",
      "       2.92e+00, 3.20e-01, 2.38e+00, 6.20e+00, 1.07e+00, 2.75e+00,\n",
      "       1.06e+03]), array([1.207e+01, 2.160e+00, 2.170e+00, 2.100e+01, 8.500e+01, 2.600e+00,\n",
      "       2.650e+00, 3.700e-01, 1.350e+00, 2.760e+00, 8.600e-01, 3.280e+00,\n",
      "       3.780e+02]), array([ 13.84,   4.12,   2.38,  19.5 ,  89.  ,   1.8 ,   0.83,   0.48,\n",
      "         1.56,   9.01,   0.57,   1.64, 480.  ]), array([1.225e+01, 1.730e+00, 2.120e+00, 1.900e+01, 8.000e+01, 1.650e+00,\n",
      "       2.030e+00, 3.700e-01, 1.630e+00, 3.400e+00, 1.000e+00, 3.170e+00,\n",
      "       5.100e+02]), array([1.437e+01, 1.950e+00, 2.500e+00, 1.680e+01, 1.130e+02, 3.850e+00,\n",
      "       3.490e+00, 2.400e-01, 2.180e+00, 7.800e+00, 8.600e-01, 3.450e+00,\n",
      "       1.480e+03]), array([1.349e+01, 1.660e+00, 2.240e+00, 2.400e+01, 8.700e+01, 1.880e+00,\n",
      "       1.840e+00, 2.700e-01, 1.030e+00, 3.740e+00, 9.800e-01, 2.780e+00,\n",
      "       4.720e+02]), array([1.39e+01, 1.68e+00, 2.12e+00, 1.60e+01, 1.01e+02, 3.10e+00,\n",
      "       3.39e+00, 2.10e-01, 2.14e+00, 6.10e+00, 9.10e-01, 3.33e+00,\n",
      "       9.85e+02]), array([1.367e+01, 1.250e+00, 1.920e+00, 1.800e+01, 9.400e+01, 2.100e+00,\n",
      "       1.790e+00, 3.200e-01, 7.300e-01, 3.800e+00, 1.230e+00, 2.460e+00,\n",
      "       6.300e+02]), array([ 14.13,   4.1 ,   2.74,  24.5 ,  96.  ,   2.05,   0.76,   0.56,\n",
      "         1.35,   9.2 ,   0.61,   1.6 , 560.  ]), array([1.406e+01, 1.630e+00, 2.280e+00, 1.600e+01, 1.260e+02, 3.000e+00,\n",
      "       3.170e+00, 2.400e-01, 2.100e+00, 5.650e+00, 1.090e+00, 3.710e+00,\n",
      "       7.800e+02]), array([1.284e+01, 2.960e+00, 2.610e+00, 2.400e+01, 1.010e+02, 2.320e+00,\n",
      "       6.000e-01, 5.300e-01, 8.100e-01, 4.920e+00, 8.900e-01, 2.150e+00,\n",
      "       5.900e+02]), array([1.184e+01, 2.890e+00, 2.230e+00, 1.800e+01, 1.120e+02, 1.720e+00,\n",
      "       1.320e+00, 4.300e-01, 9.500e-01, 2.650e+00, 9.600e-01, 2.520e+00,\n",
      "       5.000e+02]), array([1.383e+01, 1.570e+00, 2.620e+00, 2.000e+01, 1.150e+02, 2.950e+00,\n",
      "       3.400e+00, 4.000e-01, 1.720e+00, 6.600e+00, 1.130e+00, 2.570e+00,\n",
      "       1.130e+03]), array([1.376e+01, 1.530e+00, 2.700e+00, 1.950e+01, 1.320e+02, 2.950e+00,\n",
      "       2.740e+00, 5.000e-01, 1.350e+00, 5.400e+00, 1.250e+00, 3.000e+00,\n",
      "       1.235e+03]), array([1.308e+01, 3.900e+00, 2.360e+00, 2.150e+01, 1.130e+02, 1.410e+00,\n",
      "       1.390e+00, 3.400e-01, 1.140e+00, 9.400e+00, 5.700e-01, 1.330e+00,\n",
      "       5.500e+02]), array([1.332e+01, 3.240e+00, 2.380e+00, 2.150e+01, 9.200e+01, 1.930e+00,\n",
      "       7.600e-01, 4.500e-01, 1.250e+00, 8.420e+00, 5.500e-01, 1.620e+00,\n",
      "       6.500e+02]), array([1.229e+01, 1.610e+00, 2.210e+00, 2.040e+01, 1.030e+02, 1.100e+00,\n",
      "       1.020e+00, 3.700e-01, 1.460e+00, 3.050e+00, 9.060e-01, 1.820e+00,\n",
      "       8.700e+02]), array([1.377e+01, 1.900e+00, 2.680e+00, 1.710e+01, 1.150e+02, 3.000e+00,\n",
      "       2.790e+00, 3.900e-01, 1.680e+00, 6.300e+00, 1.130e+00, 2.930e+00,\n",
      "       1.375e+03]), array([1.386e+01, 1.510e+00, 2.670e+00, 2.500e+01, 8.600e+01, 2.950e+00,\n",
      "       2.860e+00, 2.100e-01, 1.870e+00, 3.380e+00, 1.360e+00, 3.160e+00,\n",
      "       4.100e+02]), array([ 12.85,   3.27,   2.58,  22.  , 106.  ,   1.65,   0.6 ,   0.6 ,\n",
      "         0.96,   5.58,   0.87,   2.11, 570.  ]), array([1.293e+01, 3.800e+00, 2.650e+00, 1.860e+01, 1.020e+02, 2.410e+00,\n",
      "       2.410e+00, 2.500e-01, 1.980e+00, 4.500e+00, 1.030e+00, 3.520e+00,\n",
      "       7.700e+02]), array([ 12.64,   1.36,   2.02,  16.8 , 100.  ,   2.02,   1.41,   0.53,\n",
      "         0.62,   5.75,   0.98,   1.59, 450.  ]), array([ 12.42,   2.55,   2.27,  22.  ,  90.  ,   1.68,   1.84,   0.66,\n",
      "         1.42,   2.7 ,   0.86,   3.3 , 315.  ]), array([1.296e+01, 3.450e+00, 2.350e+00, 1.850e+01, 1.060e+02, 1.390e+00,\n",
      "       7.000e-01, 4.000e-01, 9.400e-01, 5.280e+00, 6.800e-01, 1.750e+00,\n",
      "       6.750e+02]), array([1.236e+01, 3.830e+00, 2.380e+00, 2.100e+01, 8.800e+01, 2.300e+00,\n",
      "       9.200e-01, 5.000e-01, 1.040e+00, 7.650e+00, 5.600e-01, 1.580e+00,\n",
      "       5.200e+02]), array([1.416e+01, 2.510e+00, 2.480e+00, 2.000e+01, 9.100e+01, 1.680e+00,\n",
      "       7.000e-01, 4.400e-01, 1.240e+00, 9.700e+00, 6.200e-01, 1.710e+00,\n",
      "       6.600e+02]), array([ 13.05,   3.86,   2.32,  22.5 ,  85.  ,   1.65,   1.59,   0.61,\n",
      "         1.62,   4.8 ,   0.84,   2.01, 515.  ]), array([ 14.13,   4.1 ,   2.74,  24.5 ,  96.  ,   2.05,   0.76,   0.56,\n",
      "         1.35,   9.2 ,   0.61,   1.6 , 560.  ]), array([1.351e+01, 1.800e+00, 2.650e+00, 1.900e+01, 1.100e+02, 2.350e+00,\n",
      "       2.530e+00, 2.900e-01, 1.540e+00, 4.200e+00, 1.100e+00, 2.870e+00,\n",
      "       1.095e+03]), array([1.437e+01, 1.950e+00, 2.500e+00, 1.680e+01, 1.130e+02, 3.850e+00,\n",
      "       3.490e+00, 2.400e-01, 2.180e+00, 7.800e+00, 8.600e-01, 3.450e+00,\n",
      "       1.480e+03]), array([1.272e+01, 1.750e+00, 2.280e+00, 2.250e+01, 8.400e+01, 1.380e+00,\n",
      "       1.760e+00, 4.800e-01, 1.630e+00, 3.300e+00, 8.800e-01, 2.420e+00,\n",
      "       4.880e+02]), array([1.348e+01, 1.810e+00, 2.410e+00, 2.050e+01, 1.000e+02, 2.700e+00,\n",
      "       2.980e+00, 2.600e-01, 1.860e+00, 5.100e+00, 1.040e+00, 3.470e+00,\n",
      "       9.200e+02]), array([1.204e+01, 4.300e+00, 2.380e+00, 2.200e+01, 8.000e+01, 2.100e+00,\n",
      "       1.750e+00, 4.200e-01, 1.350e+00, 2.600e+00, 7.900e-01, 2.570e+00,\n",
      "       5.800e+02]), array([ 12.64,   1.36,   2.02,  16.8 , 100.  ,   2.02,   1.41,   0.53,\n",
      "         0.62,   5.75,   0.98,   1.59, 450.  ]), array([1.317e+01, 2.590e+00, 2.370e+00, 2.000e+01, 1.200e+02, 1.650e+00,\n",
      "       6.800e-01, 5.300e-01, 1.460e+00, 9.300e+00, 6.000e-01, 1.620e+00,\n",
      "       8.400e+02]), array([1.26e+01, 1.34e+00, 1.90e+00, 1.85e+01, 8.80e+01, 1.45e+00,\n",
      "       1.36e+00, 2.90e-01, 1.35e+00, 2.45e+00, 1.04e+00, 2.77e+00,\n",
      "       5.62e+02])], [0, 0, 0, 1, 1, 0, 2, 2, 0, 1, 2, 1, 0, 1, 0, 1, 2, 0, 2, 1, 0, 0, 2, 2, 1, 0, 1, 2, 0, 1, 1, 2, 2, 2, 1, 2, 0, 0, 1, 0, 1, 1, 2, 1])\n"
     ]
    }
   ],
   "source": [
    "# for i in pool.bags_saved:\n",
    "#     print(i)\n",
    "\n",
    "print(bags[0])"
   ]
  }
 ],
 "metadata": {
  "kernelspec": {
   "display_name": "Python 3",
   "language": "python",
   "name": "python3"
  },
  "language_info": {
   "codemirror_mode": {
    "name": "ipython",
    "version": 3
   },
   "file_extension": ".py",
   "mimetype": "text/x-python",
   "name": "python",
   "nbconvert_exporter": "python",
   "pygments_lexer": "ipython3",
   "version": "3.11.1 (tags/v3.11.1:a7a450f, Dec  6 2022, 19:58:39) [MSC v.1934 64 bit (AMD64)]"
  },
  "orig_nbformat": 4,
  "vscode": {
   "interpreter": {
    "hash": "5238573367df39f7286bb46f9ff5f08f63a01a80960060ce41e3c79b190280fa"
   }
  }
 },
 "nbformat": 4,
 "nbformat_minor": 2
}
